{
 "cells": [
  {
   "cell_type": "markdown",
   "id": "bMb-gBj2gx0v",
   "metadata": {
    "id": "bMb-gBj2gx0v"
   },
   "source": [
    "## ANN"
   ]
  },
  {
   "cell_type": "code",
   "execution_count": 24,
   "id": "oTGB_CWS8ECc",
   "metadata": {
    "colab": {
     "base_uri": "https://localhost:8080/"
    },
    "id": "oTGB_CWS8ECc",
    "outputId": "eb6f7fed-21bd-475c-e006-ecc7df9d388a"
   },
   "outputs": [
    {
     "name": "stdout",
     "output_type": "stream",
     "text": [
      "Looking in indexes: https://pypi.org/simple, https://us-python.pkg.dev/colab-wheels/public/simple/\n",
      "Requirement already satisfied: keras in /usr/local/lib/python3.9/dist-packages (2.12.0)\n"
     ]
    }
   ],
   "source": [
    "!pip install keras"
   ]
  },
  {
   "cell_type": "code",
   "execution_count": 25,
   "id": "nhFxW2nWjSL6",
   "metadata": {
    "id": "nhFxW2nWjSL6"
   },
   "outputs": [],
   "source": [
    "import tensorflow as tf\n",
    "from tensorflow import keras\n",
    "from tensorflow.keras import layers"
   ]
  },
  {
   "cell_type": "code",
   "execution_count": 26,
   "id": "27HHeOi76fJF",
   "metadata": {
    "id": "27HHeOi76fJF"
   },
   "outputs": [],
   "source": [
    "X = df[['Time_of_departure', 'Length_of_Fligh', 'Airline_ID', 'AirportTo']]\n",
    "Y = df[['Class']]"
   ]
  },
  {
   "cell_type": "code",
   "execution_count": 27,
   "id": "sYvDi8mx6fM3",
   "metadata": {
    "id": "sYvDi8mx6fM3"
   },
   "outputs": [],
   "source": [
    "#Splitting dataset into training and testing dataset\n",
    "from sklearn.model_selection import train_test_split\n",
    "X_train,X_test,Y_train,Y_test = train_test_split(X,Y,test_size=0.3,random_state=42)"
   ]
  },
  {
   "cell_type": "code",
   "execution_count": 28,
   "id": "Rx1IWOgGGFiZ",
   "metadata": {
    "colab": {
     "base_uri": "https://localhost:8080/",
     "height": 423
    },
    "id": "Rx1IWOgGGFiZ",
    "outputId": "a0626ead-60eb-46df-f2be-d08071cdd116"
   },
   "outputs": [
    {
     "data": {
      "text/html": [
       "\n",
       "  <div id=\"df-86e2318d-b567-4a0a-a56a-f51900fdbca9\">\n",
       "    <div class=\"colab-df-container\">\n",
       "      <div>\n",
       "<style scoped>\n",
       "    .dataframe tbody tr th:only-of-type {\n",
       "        vertical-align: middle;\n",
       "    }\n",
       "\n",
       "    .dataframe tbody tr th {\n",
       "        vertical-align: top;\n",
       "    }\n",
       "\n",
       "    .dataframe thead th {\n",
       "        text-align: right;\n",
       "    }\n",
       "</style>\n",
       "<table border=\"1\" class=\"dataframe\">\n",
       "  <thead>\n",
       "    <tr style=\"text-align: right;\">\n",
       "      <th></th>\n",
       "      <th>Time_of_departure</th>\n",
       "      <th>Length_of_Fligh</th>\n",
       "      <th>Airline_ID</th>\n",
       "      <th>AirportTo</th>\n",
       "    </tr>\n",
       "  </thead>\n",
       "  <tbody>\n",
       "    <tr>\n",
       "      <th>471275</th>\n",
       "      <td>0.318404</td>\n",
       "      <td>0.203053</td>\n",
       "      <td>0.470588</td>\n",
       "      <td>0.119863</td>\n",
       "    </tr>\n",
       "    <tr>\n",
       "      <th>132519</th>\n",
       "      <td>0.612316</td>\n",
       "      <td>0.206107</td>\n",
       "      <td>0.941176</td>\n",
       "      <td>0.328767</td>\n",
       "    </tr>\n",
       "    <tr>\n",
       "      <th>359923</th>\n",
       "      <td>0.682295</td>\n",
       "      <td>0.175573</td>\n",
       "      <td>0.882353</td>\n",
       "      <td>0.948630</td>\n",
       "    </tr>\n",
       "    <tr>\n",
       "      <th>330084</th>\n",
       "      <td>0.633310</td>\n",
       "      <td>0.178626</td>\n",
       "      <td>0.294118</td>\n",
       "      <td>0.544521</td>\n",
       "    </tr>\n",
       "    <tr>\n",
       "      <th>143429</th>\n",
       "      <td>0.515045</td>\n",
       "      <td>0.233588</td>\n",
       "      <td>0.705882</td>\n",
       "      <td>0.767123</td>\n",
       "    </tr>\n",
       "    <tr>\n",
       "      <th>...</th>\n",
       "      <td>...</td>\n",
       "      <td>...</td>\n",
       "      <td>...</td>\n",
       "      <td>...</td>\n",
       "    </tr>\n",
       "    <tr>\n",
       "      <th>110268</th>\n",
       "      <td>0.542337</td>\n",
       "      <td>0.239695</td>\n",
       "      <td>1.000000</td>\n",
       "      <td>0.205479</td>\n",
       "    </tr>\n",
       "    <tr>\n",
       "      <th>259178</th>\n",
       "      <td>0.279916</td>\n",
       "      <td>0.282443</td>\n",
       "      <td>0.058824</td>\n",
       "      <td>0.273973</td>\n",
       "    </tr>\n",
       "    <tr>\n",
       "      <th>365838</th>\n",
       "      <td>0.731281</td>\n",
       "      <td>0.282443</td>\n",
       "      <td>0.294118</td>\n",
       "      <td>0.356164</td>\n",
       "    </tr>\n",
       "    <tr>\n",
       "      <th>131932</th>\n",
       "      <td>0.818754</td>\n",
       "      <td>0.106870</td>\n",
       "      <td>0.882353</td>\n",
       "      <td>0.291096</td>\n",
       "    </tr>\n",
       "    <tr>\n",
       "      <th>121958</th>\n",
       "      <td>0.384885</td>\n",
       "      <td>0.500763</td>\n",
       "      <td>0.294118</td>\n",
       "      <td>0.893836</td>\n",
       "    </tr>\n",
       "  </tbody>\n",
       "</table>\n",
       "<p>377567 rows × 4 columns</p>\n",
       "</div>\n",
       "      <button class=\"colab-df-convert\" onclick=\"convertToInteractive('df-86e2318d-b567-4a0a-a56a-f51900fdbca9')\"\n",
       "              title=\"Convert this dataframe to an interactive table.\"\n",
       "              style=\"display:none;\">\n",
       "        \n",
       "  <svg xmlns=\"http://www.w3.org/2000/svg\" height=\"24px\"viewBox=\"0 0 24 24\"\n",
       "       width=\"24px\">\n",
       "    <path d=\"M0 0h24v24H0V0z\" fill=\"none\"/>\n",
       "    <path d=\"M18.56 5.44l.94 2.06.94-2.06 2.06-.94-2.06-.94-.94-2.06-.94 2.06-2.06.94zm-11 1L8.5 8.5l.94-2.06 2.06-.94-2.06-.94L8.5 2.5l-.94 2.06-2.06.94zm10 10l.94 2.06.94-2.06 2.06-.94-2.06-.94-.94-2.06-.94 2.06-2.06.94z\"/><path d=\"M17.41 7.96l-1.37-1.37c-.4-.4-.92-.59-1.43-.59-.52 0-1.04.2-1.43.59L10.3 9.45l-7.72 7.72c-.78.78-.78 2.05 0 2.83L4 21.41c.39.39.9.59 1.41.59.51 0 1.02-.2 1.41-.59l7.78-7.78 2.81-2.81c.8-.78.8-2.07 0-2.86zM5.41 20L4 18.59l7.72-7.72 1.47 1.35L5.41 20z\"/>\n",
       "  </svg>\n",
       "      </button>\n",
       "      \n",
       "  <style>\n",
       "    .colab-df-container {\n",
       "      display:flex;\n",
       "      flex-wrap:wrap;\n",
       "      gap: 12px;\n",
       "    }\n",
       "\n",
       "    .colab-df-convert {\n",
       "      background-color: #E8F0FE;\n",
       "      border: none;\n",
       "      border-radius: 50%;\n",
       "      cursor: pointer;\n",
       "      display: none;\n",
       "      fill: #1967D2;\n",
       "      height: 32px;\n",
       "      padding: 0 0 0 0;\n",
       "      width: 32px;\n",
       "    }\n",
       "\n",
       "    .colab-df-convert:hover {\n",
       "      background-color: #E2EBFA;\n",
       "      box-shadow: 0px 1px 2px rgba(60, 64, 67, 0.3), 0px 1px 3px 1px rgba(60, 64, 67, 0.15);\n",
       "      fill: #174EA6;\n",
       "    }\n",
       "\n",
       "    [theme=dark] .colab-df-convert {\n",
       "      background-color: #3B4455;\n",
       "      fill: #D2E3FC;\n",
       "    }\n",
       "\n",
       "    [theme=dark] .colab-df-convert:hover {\n",
       "      background-color: #434B5C;\n",
       "      box-shadow: 0px 1px 3px 1px rgba(0, 0, 0, 0.15);\n",
       "      filter: drop-shadow(0px 1px 2px rgba(0, 0, 0, 0.3));\n",
       "      fill: #FFFFFF;\n",
       "    }\n",
       "  </style>\n",
       "\n",
       "      <script>\n",
       "        const buttonEl =\n",
       "          document.querySelector('#df-86e2318d-b567-4a0a-a56a-f51900fdbca9 button.colab-df-convert');\n",
       "        buttonEl.style.display =\n",
       "          google.colab.kernel.accessAllowed ? 'block' : 'none';\n",
       "\n",
       "        async function convertToInteractive(key) {\n",
       "          const element = document.querySelector('#df-86e2318d-b567-4a0a-a56a-f51900fdbca9');\n",
       "          const dataTable =\n",
       "            await google.colab.kernel.invokeFunction('convertToInteractive',\n",
       "                                                     [key], {});\n",
       "          if (!dataTable) return;\n",
       "\n",
       "          const docLinkHtml = 'Like what you see? Visit the ' +\n",
       "            '<a target=\"_blank\" href=https://colab.research.google.com/notebooks/data_table.ipynb>data table notebook</a>'\n",
       "            + ' to learn more about interactive tables.';\n",
       "          element.innerHTML = '';\n",
       "          dataTable['output_type'] = 'display_data';\n",
       "          await google.colab.output.renderOutput(dataTable, element);\n",
       "          const docLink = document.createElement('div');\n",
       "          docLink.innerHTML = docLinkHtml;\n",
       "          element.appendChild(docLink);\n",
       "        }\n",
       "      </script>\n",
       "    </div>\n",
       "  </div>\n",
       "  "
      ],
      "text/plain": [
       "        Time_of_departure  Length_of_Fligh  Airline_ID  AirportTo\n",
       "471275           0.318404         0.203053    0.470588   0.119863\n",
       "132519           0.612316         0.206107    0.941176   0.328767\n",
       "359923           0.682295         0.175573    0.882353   0.948630\n",
       "330084           0.633310         0.178626    0.294118   0.544521\n",
       "143429           0.515045         0.233588    0.705882   0.767123\n",
       "...                   ...              ...         ...        ...\n",
       "110268           0.542337         0.239695    1.000000   0.205479\n",
       "259178           0.279916         0.282443    0.058824   0.273973\n",
       "365838           0.731281         0.282443    0.294118   0.356164\n",
       "131932           0.818754         0.106870    0.882353   0.291096\n",
       "121958           0.384885         0.500763    0.294118   0.893836\n",
       "\n",
       "[377567 rows x 4 columns]"
      ]
     },
     "execution_count": 28,
     "metadata": {},
     "output_type": "execute_result"
    }
   ],
   "source": [
    "X_train"
   ]
  },
  {
   "cell_type": "code",
   "execution_count": 29,
   "id": "gl6Q3ImfGHgl",
   "metadata": {
    "colab": {
     "base_uri": "https://localhost:8080/",
     "height": 423
    },
    "id": "gl6Q3ImfGHgl",
    "outputId": "7c7feb4a-0a1a-43a8-ebb2-d4800d9a235d"
   },
   "outputs": [
    {
     "data": {
      "text/html": [
       "\n",
       "  <div id=\"df-6268d5a2-cea2-4da2-b4d6-d10602e9347f\">\n",
       "    <div class=\"colab-df-container\">\n",
       "      <div>\n",
       "<style scoped>\n",
       "    .dataframe tbody tr th:only-of-type {\n",
       "        vertical-align: middle;\n",
       "    }\n",
       "\n",
       "    .dataframe tbody tr th {\n",
       "        vertical-align: top;\n",
       "    }\n",
       "\n",
       "    .dataframe thead th {\n",
       "        text-align: right;\n",
       "    }\n",
       "</style>\n",
       "<table border=\"1\" class=\"dataframe\">\n",
       "  <thead>\n",
       "    <tr style=\"text-align: right;\">\n",
       "      <th></th>\n",
       "      <th>Class</th>\n",
       "    </tr>\n",
       "  </thead>\n",
       "  <tbody>\n",
       "    <tr>\n",
       "      <th>471275</th>\n",
       "      <td>1</td>\n",
       "    </tr>\n",
       "    <tr>\n",
       "      <th>132519</th>\n",
       "      <td>0</td>\n",
       "    </tr>\n",
       "    <tr>\n",
       "      <th>359923</th>\n",
       "      <td>1</td>\n",
       "    </tr>\n",
       "    <tr>\n",
       "      <th>330084</th>\n",
       "      <td>0</td>\n",
       "    </tr>\n",
       "    <tr>\n",
       "      <th>143429</th>\n",
       "      <td>1</td>\n",
       "    </tr>\n",
       "    <tr>\n",
       "      <th>...</th>\n",
       "      <td>...</td>\n",
       "    </tr>\n",
       "    <tr>\n",
       "      <th>110268</th>\n",
       "      <td>0</td>\n",
       "    </tr>\n",
       "    <tr>\n",
       "      <th>259178</th>\n",
       "      <td>1</td>\n",
       "    </tr>\n",
       "    <tr>\n",
       "      <th>365838</th>\n",
       "      <td>1</td>\n",
       "    </tr>\n",
       "    <tr>\n",
       "      <th>131932</th>\n",
       "      <td>0</td>\n",
       "    </tr>\n",
       "    <tr>\n",
       "      <th>121958</th>\n",
       "      <td>0</td>\n",
       "    </tr>\n",
       "  </tbody>\n",
       "</table>\n",
       "<p>377567 rows × 1 columns</p>\n",
       "</div>\n",
       "      <button class=\"colab-df-convert\" onclick=\"convertToInteractive('df-6268d5a2-cea2-4da2-b4d6-d10602e9347f')\"\n",
       "              title=\"Convert this dataframe to an interactive table.\"\n",
       "              style=\"display:none;\">\n",
       "        \n",
       "  <svg xmlns=\"http://www.w3.org/2000/svg\" height=\"24px\"viewBox=\"0 0 24 24\"\n",
       "       width=\"24px\">\n",
       "    <path d=\"M0 0h24v24H0V0z\" fill=\"none\"/>\n",
       "    <path d=\"M18.56 5.44l.94 2.06.94-2.06 2.06-.94-2.06-.94-.94-2.06-.94 2.06-2.06.94zm-11 1L8.5 8.5l.94-2.06 2.06-.94-2.06-.94L8.5 2.5l-.94 2.06-2.06.94zm10 10l.94 2.06.94-2.06 2.06-.94-2.06-.94-.94-2.06-.94 2.06-2.06.94z\"/><path d=\"M17.41 7.96l-1.37-1.37c-.4-.4-.92-.59-1.43-.59-.52 0-1.04.2-1.43.59L10.3 9.45l-7.72 7.72c-.78.78-.78 2.05 0 2.83L4 21.41c.39.39.9.59 1.41.59.51 0 1.02-.2 1.41-.59l7.78-7.78 2.81-2.81c.8-.78.8-2.07 0-2.86zM5.41 20L4 18.59l7.72-7.72 1.47 1.35L5.41 20z\"/>\n",
       "  </svg>\n",
       "      </button>\n",
       "      \n",
       "  <style>\n",
       "    .colab-df-container {\n",
       "      display:flex;\n",
       "      flex-wrap:wrap;\n",
       "      gap: 12px;\n",
       "    }\n",
       "\n",
       "    .colab-df-convert {\n",
       "      background-color: #E8F0FE;\n",
       "      border: none;\n",
       "      border-radius: 50%;\n",
       "      cursor: pointer;\n",
       "      display: none;\n",
       "      fill: #1967D2;\n",
       "      height: 32px;\n",
       "      padding: 0 0 0 0;\n",
       "      width: 32px;\n",
       "    }\n",
       "\n",
       "    .colab-df-convert:hover {\n",
       "      background-color: #E2EBFA;\n",
       "      box-shadow: 0px 1px 2px rgba(60, 64, 67, 0.3), 0px 1px 3px 1px rgba(60, 64, 67, 0.15);\n",
       "      fill: #174EA6;\n",
       "    }\n",
       "\n",
       "    [theme=dark] .colab-df-convert {\n",
       "      background-color: #3B4455;\n",
       "      fill: #D2E3FC;\n",
       "    }\n",
       "\n",
       "    [theme=dark] .colab-df-convert:hover {\n",
       "      background-color: #434B5C;\n",
       "      box-shadow: 0px 1px 3px 1px rgba(0, 0, 0, 0.15);\n",
       "      filter: drop-shadow(0px 1px 2px rgba(0, 0, 0, 0.3));\n",
       "      fill: #FFFFFF;\n",
       "    }\n",
       "  </style>\n",
       "\n",
       "      <script>\n",
       "        const buttonEl =\n",
       "          document.querySelector('#df-6268d5a2-cea2-4da2-b4d6-d10602e9347f button.colab-df-convert');\n",
       "        buttonEl.style.display =\n",
       "          google.colab.kernel.accessAllowed ? 'block' : 'none';\n",
       "\n",
       "        async function convertToInteractive(key) {\n",
       "          const element = document.querySelector('#df-6268d5a2-cea2-4da2-b4d6-d10602e9347f');\n",
       "          const dataTable =\n",
       "            await google.colab.kernel.invokeFunction('convertToInteractive',\n",
       "                                                     [key], {});\n",
       "          if (!dataTable) return;\n",
       "\n",
       "          const docLinkHtml = 'Like what you see? Visit the ' +\n",
       "            '<a target=\"_blank\" href=https://colab.research.google.com/notebooks/data_table.ipynb>data table notebook</a>'\n",
       "            + ' to learn more about interactive tables.';\n",
       "          element.innerHTML = '';\n",
       "          dataTable['output_type'] = 'display_data';\n",
       "          await google.colab.output.renderOutput(dataTable, element);\n",
       "          const docLink = document.createElement('div');\n",
       "          docLink.innerHTML = docLinkHtml;\n",
       "          element.appendChild(docLink);\n",
       "        }\n",
       "      </script>\n",
       "    </div>\n",
       "  </div>\n",
       "  "
      ],
      "text/plain": [
       "        Class\n",
       "471275      1\n",
       "132519      0\n",
       "359923      1\n",
       "330084      0\n",
       "143429      1\n",
       "...       ...\n",
       "110268      0\n",
       "259178      1\n",
       "365838      1\n",
       "131932      0\n",
       "121958      0\n",
       "\n",
       "[377567 rows x 1 columns]"
      ]
     },
     "execution_count": 29,
     "metadata": {},
     "output_type": "execute_result"
    }
   ],
   "source": [
    "Y_train"
   ]
  },
  {
   "cell_type": "markdown",
   "id": "eLWXruv5IoOc",
   "metadata": {
    "id": "eLWXruv5IoOc"
   },
   "source": [
    "## Choosing neurons"
   ]
  },
  {
   "cell_type": "code",
   "execution_count": 35,
   "id": "jMvSbotQbqCF",
   "metadata": {
    "colab": {
     "base_uri": "https://localhost:8080/"
    },
    "id": "jMvSbotQbqCF",
    "outputId": "df8d4bbc-87f4-4d01-ee44-3b771e6603e4"
   },
   "outputs": [
    {
     "name": "stdout",
     "output_type": "stream",
     "text": [
      "11799/11799 [==============================] - 49s 4ms/step - loss: 0.4452 - accuracy: 0.5552\n",
      "5057/5057 - 8s - loss: 0.4471 - accuracy: 0.5529 - 8s/epoch - 2ms/step\n",
      "Accuracy for the 20 neurons is: [0.44705989956855774, 0.5529400706291199]\n",
      "11799/11799 [==============================] - 48s 4ms/step - loss: 0.4453 - accuracy: 0.5553\n",
      "5057/5057 - 9s - loss: 0.4471 - accuracy: 0.5529 - 9s/epoch - 2ms/step\n",
      "Accuracy for the 21 neurons is: [0.44705989956855774, 0.5529400706291199]\n",
      "11799/11799 [==============================] - 48s 4ms/step - loss: 0.4452 - accuracy: 0.5552\n",
      "5057/5057 - 8s - loss: 0.4471 - accuracy: 0.5529 - 8s/epoch - 2ms/step\n",
      "Accuracy for the 22 neurons is: [0.44705989956855774, 0.5529400706291199]\n",
      "11799/11799 [==============================] - 48s 4ms/step - loss: 0.4453 - accuracy: 0.5551\n",
      "5057/5057 - 8s - loss: 0.4471 - accuracy: 0.5529 - 8s/epoch - 2ms/step\n",
      "Accuracy for the 23 neurons is: [0.44705989956855774, 0.5529400706291199]\n",
      "11799/11799 [==============================] - 48s 4ms/step - loss: 0.4452 - accuracy: 0.5552\n",
      "5057/5057 - 9s - loss: 0.4471 - accuracy: 0.5529 - 9s/epoch - 2ms/step\n",
      "Accuracy for the 24 neurons is: [0.44705989956855774, 0.5529400706291199]\n",
      "11799/11799 [==============================] - 47s 4ms/step - loss: 0.4454 - accuracy: 0.5551\n",
      "5057/5057 - 9s - loss: 0.4471 - accuracy: 0.5529 - 9s/epoch - 2ms/step\n",
      "Accuracy for the 25 neurons is: [0.44705989956855774, 0.5529400706291199]\n",
      "11799/11799 [==============================] - 48s 4ms/step - loss: 0.4453 - accuracy: 0.5551\n",
      "5057/5057 - 8s - loss: 0.4471 - accuracy: 0.5529 - 8s/epoch - 2ms/step\n",
      "Accuracy for the 26 neurons is: [0.44705989956855774, 0.5529400706291199]\n",
      "11799/11799 [==============================] - 48s 4ms/step - loss: 0.4452 - accuracy: 0.5551\n",
      "5057/5057 - 9s - loss: 0.4471 - accuracy: 0.5529 - 9s/epoch - 2ms/step\n",
      "Accuracy for the 27 neurons is: [0.44705989956855774, 0.5529400706291199]\n",
      "11799/11799 [==============================] - 46s 4ms/step - loss: 0.4452 - accuracy: 0.5552\n",
      "5057/5057 - 9s - loss: 0.4471 - accuracy: 0.5529 - 9s/epoch - 2ms/step\n",
      "Accuracy for the 28 neurons is: [0.44705989956855774, 0.5529400706291199]\n",
      "11799/11799 [==============================] - 46s 4ms/step - loss: 0.4451 - accuracy: 0.5552\n",
      "5057/5057 - 9s - loss: 0.4471 - accuracy: 0.5529 - 9s/epoch - 2ms/step\n",
      "Accuracy for the 29 neurons is: [0.44705989956855774, 0.5529400706291199]\n",
      "11799/11799 [==============================] - 46s 4ms/step - loss: 0.4451 - accuracy: 0.5552\n",
      "5057/5057 - 9s - loss: 0.4471 - accuracy: 0.5529 - 9s/epoch - 2ms/step\n",
      "Accuracy for the 30 neurons is: [0.44705989956855774, 0.5529400706291199]\n",
      "CPU times: user 11min 32s, sys: 57 s, total: 12min 29s\n",
      "Wall time: 15min 7s\n"
     ]
    }
   ],
   "source": [
    "%%time \n",
    "\n",
    "units = range(20, 31)\n",
    "for unit in units:\n",
    "    ANN_model = (tf.keras.Sequential([\n",
    "    layers.Dense(units = unit, activation='relu'),\n",
    "    layers.Dense(units = unit, activation='relu'),\n",
    "    layers.Dense(units = unit, activation='relu'),\n",
    "    layers.Dense(units = unit, activation='relu'), \n",
    "    layers.Dense(units = 1, activation=\"sigmoid\")]))\n",
    "    ANN_model.compile(optimizer= 'adam', loss=\"mean_absolute_error\",metrics=['accuracy'])\n",
    "    history = ANN_model.fit(X_train, Y_train, epochs= 1, batch_size=32, verbose=1) \n",
    "    print('Accuracy for the {0} neurons is: {1}'.format(unit, ANN_model.evaluate(X_test,Y_test,verbose=2)))"
   ]
  },
  {
   "cell_type": "markdown",
   "id": "UreE-0bSROro",
   "metadata": {
    "id": "UreE-0bSROro"
   },
   "source": [
    "Accuracies are almost the same, But the slightly high accuracy is in 20 neurons\n",
    "\n",
    "*   loss : MSE = 0.4453 \n",
    "*   accuracy : 0.5552\n",
    "*   CPU times: : total = 12min 29s\n",
    "*   Wall time: 15min 7s\n",
    "\n",
    "\n",
    "\n",
    "\n"
   ]
  },
  {
   "cell_type": "markdown",
   "id": "5185f8-EV6jg",
   "metadata": {
    "id": "5185f8-EV6jg"
   },
   "source": [
    "## Choosing Optimizer"
   ]
  },
  {
   "cell_type": "code",
   "execution_count": 37,
   "id": "P2kY0cmgLLVX",
   "metadata": {
    "colab": {
     "base_uri": "https://localhost:8080/"
    },
    "id": "P2kY0cmgLLVX",
    "outputId": "1fdc9a4e-c5c1-4962-acca-71b395e84d89"
   },
   "outputs": [
    {
     "name": "stdout",
     "output_type": "stream",
     "text": [
      "11799/11799 [==============================] - 43s 4ms/step - loss: 0.4516 - accuracy: 0.5553\n",
      "5057/5057 - 9s - loss: 0.4473 - accuracy: 0.5529 - 9s/epoch - 2ms/step\n",
      "Accuracy for the SGD optimizer is: [0.4472723603248596, 0.5529400706291199]\n",
      "11799/11799 [==============================] - 48s 4ms/step - loss: 0.4452 - accuracy: 0.5552\n",
      "5057/5057 - 9s - loss: 0.4471 - accuracy: 0.5529 - 9s/epoch - 2ms/step\n",
      "Accuracy for the Adam optimizer is: [0.44705989956855774, 0.5529400706291199]\n",
      "11799/11799 [==============================] - 43s 4ms/step - loss: 0.4453 - accuracy: 0.5552\n",
      "5057/5057 - 9s - loss: 0.4471 - accuracy: 0.5529 - 9s/epoch - 2ms/step\n",
      "Accuracy for the RMSprop optimizer is: [0.44705989956855774, 0.5529400706291199]\n",
      "11799/11799 [==============================] - 44s 4ms/step - loss: 0.4986 - accuracy: 0.5544\n",
      "5057/5057 - 9s - loss: 0.4979 - accuracy: 0.5529 - 9s/epoch - 2ms/step\n",
      "Accuracy for the Adadelta optimizer is: [0.49786999821662903, 0.5529400706291199]\n",
      "11799/11799 [==============================] - 45s 4ms/step - loss: 0.4761 - accuracy: 0.5552\n",
      "5057/5057 - 9s - loss: 0.4584 - accuracy: 0.5529 - 9s/epoch - 2ms/step\n",
      "Accuracy for the Adagrad optimizer is: [0.4583541452884674, 0.5529400706291199]\n",
      "11799/11799 [==============================] - 45s 4ms/step - loss: 0.4464 - accuracy: 0.5552\n",
      "5057/5057 - 9s - loss: 0.4471 - accuracy: 0.5529 - 9s/epoch - 2ms/step\n",
      "Accuracy for the Adamax optimizer is: [0.44705989956855774, 0.5529400706291199]\n",
      "11799/11799 [==============================] - 53s 4ms/step - loss: 0.4453 - accuracy: 0.5551\n",
      "5057/5057 - 9s - loss: 0.4471 - accuracy: 0.5529 - 9s/epoch - 2ms/step\n",
      "Accuracy for the Nadam optimizer is: [0.44705989956855774, 0.5529400706291199]\n",
      "11799/11799 [==============================] - 45s 4ms/step - loss: 0.4981 - accuracy: 0.5552\n",
      "5057/5057 - 8s - loss: 0.4971 - accuracy: 0.5529 - 8s/epoch - 2ms/step\n",
      "Accuracy for the Ftrl optimizer is: [0.4971464276313782, 0.5529400706291199]\n",
      "11799/11799 [==============================] - 43s 4ms/step - loss: 0.4489 - accuracy: 0.5552\n",
      "5057/5057 - 8s - loss: 0.4472 - accuracy: 0.5529 - 8s/epoch - 2ms/step\n",
      "Accuracy for the SGD optimizer is: [0.44720566272735596, 0.5529400706291199]\n",
      "CPU times: user 9min 14s, sys: 45.9 s, total: 10min\n",
      "Wall time: 11min 56s\n"
     ]
    }
   ],
   "source": [
    "%%time \n",
    "\n",
    "optimizers = ['SGD', 'Adam', 'RMSprop', 'Adadelta', 'Adagrad', 'Adamax', 'Nadam', 'Ftrl','SGD']\n",
    "for optimizer in optimizers:\n",
    "    ANN_model = (tf.keras.Sequential([\n",
    "    layers.Dense(units = 20, activation='relu'),\n",
    "    layers.Dense(units = 20, activation='relu'),\n",
    "    layers.Dense(units = 20, activation='relu'),\n",
    "    layers.Dense(units = 20, activation='relu'), \n",
    "    layers.Dense(units = 1, activation=\"sigmoid\")]))\n",
    "    ANN_model.compile(optimizer= optimizer, loss=\"mean_absolute_error\",metrics=['accuracy'])\n",
    "    history_1 = ANN_model.fit(X_train, Y_train, epochs= 1, batch_size=32, verbose=1) \n",
    "    print('Accuracy for the {0} optimizer is: {1}'.format(optimizer, ANN_model.evaluate(X_test,Y_test,verbose=2)))"
   ]
  },
  {
   "cell_type": "markdown",
   "id": "eevXFm9HVml0",
   "metadata": {
    "id": "eevXFm9HVml0"
   },
   "source": [
    "Accuracies are almost the same, So we are going to choose 'adam' optimizer\n",
    "\n",
    "- loss : MSE = 0.4471 \n",
    "- accuracy : 0.5529 \n",
    "- CPU times: : total = total: 10min\n",
    "- Wall time: 11min 56s"
   ]
  },
  {
   "cell_type": "markdown",
   "id": "e7uOO2AuitHd",
   "metadata": {
    "id": "e7uOO2AuitHd"
   },
   "source": [
    "## Choosing activation function"
   ]
  },
  {
   "cell_type": "code",
   "execution_count": 42,
   "id": "VjprURm0MSye",
   "metadata": {
    "colab": {
     "base_uri": "https://localhost:8080/"
    },
    "id": "VjprURm0MSye",
    "outputId": "0b448a2a-0ccb-4ae7-b33f-99d6ef248480"
   },
   "outputs": [
    {
     "name": "stdout",
     "output_type": "stream",
     "text": [
      "11799/11799 [==============================] - 61s 5ms/step - loss: 0.4454 - accuracy: 0.5552\n",
      "5057/5057 - 11s - loss: 0.4471 - accuracy: 0.5529 - 11s/epoch - 2ms/step\n",
      "Accuracy and loss for the relu activation function is: [0.44705989956855774, 0.5529400706291199]\n",
      "11799/11799 [==============================] - 47s 4ms/step - loss: 0.4451 - accuracy: 0.5552\n",
      "5057/5057 - 9s - loss: 0.4471 - accuracy: 0.5529 - 9s/epoch - 2ms/step\n",
      "Accuracy and loss for the sigmoid activation function is: [0.44705989956855774, 0.5529400706291199]\n",
      "11799/11799 [==============================] - 47s 4ms/step - loss: 0.4450 - accuracy: 0.5551\n",
      "5057/5057 - 9s - loss: 0.4471 - accuracy: 0.5529 - 9s/epoch - 2ms/step\n",
      "Accuracy and loss for the softplus activation function is: [0.44705989956855774, 0.5529400706291199]\n",
      "11799/11799 [==============================] - 48s 4ms/step - loss: 0.4452 - accuracy: 0.5552\n",
      "5057/5057 - 8s - loss: 0.4471 - accuracy: 0.5529 - 8s/epoch - 2ms/step\n",
      "Accuracy and loss for the softsign activation function is: [0.44705989956855774, 0.5529400706291199]\n",
      "11799/11799 [==============================] - 46s 4ms/step - loss: 0.4450 - accuracy: 0.5552\n",
      "5057/5057 - 10s - loss: 0.4471 - accuracy: 0.5529 - 10s/epoch - 2ms/step\n",
      "Accuracy and loss for the tanh activation function is: [0.44705989956855774, 0.5529400706291199]\n",
      "11799/11799 [==============================] - 46s 4ms/step - loss: 0.4449 - accuracy: 0.5552\n",
      "5057/5057 - 9s - loss: 0.4471 - accuracy: 0.5529 - 9s/epoch - 2ms/step\n",
      "Accuracy and loss for the selu activation function is: [0.44705989956855774, 0.5529400706291199]\n",
      "11799/11799 [==============================] - 46s 4ms/step - loss: 0.4451 - accuracy: 0.5550\n",
      "5057/5057 - 8s - loss: 0.4471 - accuracy: 0.5529 - 8s/epoch - 2ms/step\n",
      "Accuracy and loss for the elu activation function is: [0.44705989956855774, 0.5529400706291199]\n",
      "11799/11799 [==============================] - 47s 4ms/step - loss: 0.4448 - accuracy: 0.5552\n",
      "5057/5057 - 9s - loss: 0.4471 - accuracy: 0.5529 - 9s/epoch - 2ms/step\n",
      "Accuracy and loss for the exponential activation function is: [0.44705989956855774, 0.5529400706291199]\n",
      "11799/11799 [==============================] - 48s 4ms/step - loss: 0.4451 - accuracy: 0.5552\n",
      "5057/5057 - 9s - loss: 0.4471 - accuracy: 0.5529 - 9s/epoch - 2ms/step\n",
      "Accuracy and loss for the LeakyReLU activation function is: [0.44705989956855774, 0.5529400706291199]\n",
      "CPU times: user 9min 29s, sys: 45.2 s, total: 10min 14s\n",
      "Wall time: 12min 40s\n"
     ]
    }
   ],
   "source": [
    "%%time \n",
    "\n",
    "activations = ['relu', 'sigmoid', 'softplus', 'softsign', 'tanh', 'selu','elu', 'exponential', 'LeakyReLU']\n",
    "for activation in activations:\n",
    "    ANN_model = (tf.keras.Sequential([\n",
    "    layers.Dense(units = 20, activation = activation),\n",
    "    layers.Dense(units = 20, activation = activation),\n",
    "    layers.Dense(units = 20, activation = activation), \n",
    "    layers.Dense(units = 20, activation = activation), \n",
    "    layers.Dense(units = 1, activation=\"sigmoid\")]))\n",
    "    ANN_model.compile(optimizer= 'adam', loss=\"mean_absolute_error\",metrics=['accuracy'])\n",
    "    history_2 = ANN_model.fit(X_train, Y_train, epochs= 1, batch_size=32, verbose=1)\n",
    "    print('Accuracy and loss for the {0} activation function is: {1}'.format(activation, ANN_model.evaluate(X_test,Y_test,verbose=2))) "
   ]
  },
  {
   "cell_type": "markdown",
   "id": "wbkg6yhgc7AR",
   "metadata": {
    "id": "wbkg6yhgc7AR"
   },
   "source": [
    "WE will choose relu activation function\n",
    "- loss : MSE = 0.4471 \n",
    "- accuracy : 0.5529\n",
    "- CPU times: : total = total : 10min 14s\n",
    "- Wall time: 12min 40s"
   ]
  },
  {
   "cell_type": "code",
   "execution_count": 43,
   "id": "Bhy6T1viNprT",
   "metadata": {
    "colab": {
     "base_uri": "https://localhost:8080/"
    },
    "id": "Bhy6T1viNprT",
    "outputId": "c2854774-c7b8-48ac-d3f4-091045e47616"
   },
   "outputs": [
    {
     "name": "stdout",
     "output_type": "stream",
     "text": [
      "11799/11799 [==============================] - 60s 5ms/step - loss: 0.4455 - accuracy: 0.5552\n",
      "5057/5057 - 8s - loss: 0.4471 - accuracy: 0.5529 - 8s/epoch - 2ms/step\n",
      "Accuracy and loss for the 1 epoch\\s function is: [0.44705989956855774, 0.5529400706291199]\n",
      "Epoch 1/2\n",
      "11799/11799 [==============================] - 47s 4ms/step - loss: 0.4455 - accuracy: 0.5551\n",
      "Epoch 2/2\n",
      "11799/11799 [==============================] - 45s 4ms/step - loss: 0.4448 - accuracy: 0.5552\n",
      "5057/5057 - 10s - loss: 0.4471 - accuracy: 0.5529 - 10s/epoch - 2ms/step\n",
      "Accuracy and loss for the 2 epoch\\s function is: [0.44705989956855774, 0.5529400706291199]\n",
      "Epoch 1/3\n",
      "11799/11799 [==============================] - 47s 4ms/step - loss: 0.4456 - accuracy: 0.5549\n",
      "Epoch 2/3\n",
      "11799/11799 [==============================] - 45s 4ms/step - loss: 0.4448 - accuracy: 0.5552\n",
      "Epoch 3/3\n",
      "11799/11799 [==============================] - 49s 4ms/step - loss: 0.4448 - accuracy: 0.5552\n",
      "5057/5057 - 9s - loss: 0.4471 - accuracy: 0.5529 - 9s/epoch - 2ms/step\n",
      "Accuracy and loss for the 3 epoch\\s function is: [0.44705989956855774, 0.5529400706291199]\n",
      "Epoch 1/4\n",
      "11799/11799 [==============================] - 46s 4ms/step - loss: 0.4453 - accuracy: 0.5551\n",
      "Epoch 2/4\n",
      "11799/11799 [==============================] - 44s 4ms/step - loss: 0.4448 - accuracy: 0.5552\n",
      "Epoch 3/4\n",
      "11799/11799 [==============================] - 56s 5ms/step - loss: 0.4448 - accuracy: 0.5552\n",
      "Epoch 4/4\n",
      "11799/11799 [==============================] - 64s 5ms/step - loss: 0.4448 - accuracy: 0.5552\n",
      "5057/5057 - 9s - loss: 0.4471 - accuracy: 0.5529 - 9s/epoch - 2ms/step\n",
      "Accuracy and loss for the 4 epoch\\s function is: [0.44705989956855774, 0.5529400706291199]\n",
      "CPU times: user 9min 26s, sys: 44 s, total: 10min 10s\n",
      "Wall time: 10min 45s\n"
     ]
    }
   ],
   "source": [
    "%%time \n",
    "\n",
    "epochs = range(1, 5)\n",
    "for epoch in epochs:\n",
    "    ANN_model = (tf.keras.Sequential([\n",
    "    layers.Dense(units = 20, activation='relu'),\n",
    "    layers.Dense(units = 20, activation='relu'),\n",
    "    layers.Dense(units = 20, activation='relu'),\n",
    "    layers.Dense(units = 20, activation='relu'), \n",
    "    layers.Dense(units = 1, activation=\"sigmoid\")]))\n",
    "    ANN_model.compile(optimizer= 'adam', loss=\"mean_absolute_error\",metrics=['accuracy'])\n",
    "    history_3 = ANN_model.fit(X_train, Y_train, epochs= epoch, batch_size=32, verbose=1)\n",
    "    print('Accuracy and loss for the {0} epoch\\s function is: {1}'.format(epoch, ANN_model.evaluate(X_test,Y_test,verbose=2))) "
   ]
  },
  {
   "cell_type": "markdown",
   "id": "FhhKzDA3lUqG",
   "metadata": {
    "id": "FhhKzDA3lUqG"
   },
   "source": [
    "Accuracies are almost the same, so due the computational power we will choose 1 epoch\n",
    "\n",
    "- loss : MSE = 0.4471\n",
    "- accuracy : 0.5529 \n",
    "- CPU times: : total = total : total: 10min 10s\n",
    "- Wall time: 10min 45s"
   ]
  },
  {
   "cell_type": "code",
   "execution_count": 44,
   "id": "PpEeP08SrDG3",
   "metadata": {
    "id": "PpEeP08SrDG3"
   },
   "outputs": [],
   "source": [
    "def plot_loss(history):\n",
    "    plt.plot(history.history['loss'], label='loss')\n",
    "    plt.plot(history_1.history['loss'], label='loss1')\n",
    "    plt.plot(history_2.history['loss'], label='loss2')\n",
    "    plt.plot(history_3.history['loss'], label='loss3')\n",
    "    plt.xlabel('huperparameter tuning')\n",
    "    plt.ylabel('accuracy')\n",
    "    plt.legend()\n",
    "    plt.grid(True)"
   ]
  },
  {
   "cell_type": "code",
   "execution_count": 45,
   "id": "hSr4LM5PbGC8",
   "metadata": {
    "colab": {
     "base_uri": "https://localhost:8080/",
     "height": 449
    },
    "id": "hSr4LM5PbGC8",
    "outputId": "c446bc1d-5854-4afa-eb05-1b0bc1c1346f"
   },
   "outputs": [
    {
     "data": {
      "image/png": "[encoded data removed]",
      "text/plain": [
       "<Figure size 640x480 with 1 Axes>"
      ]
     },
     "metadata": {},
     "output_type": "display_data"
    }
   ],
   "source": [
    "plot_loss(history)"
   ]
  },
  {
   "cell_type": "code",
   "execution_count": null,
   "id": "7o1k6QFlo5MD",
   "metadata": {
    "id": "7o1k6QFlo5MD"
   },
   "outputs": [],
   "source": []
  },
  {
   "cell_type": "code",
   "execution_count": 50,
   "id": "LJXkpq6ZpD59",
   "metadata": {
    "colab": {
     "base_uri": "https://localhost:8080/"
    },
    "id": "LJXkpq6ZpD59",
    "outputId": "3e20f1ed-2b36-42a9-ab4b-e2f46fb04343"
   },
   "outputs": [
    {
     "name": "stdout",
     "output_type": "stream",
     "text": [
      "5057/5057 [==============================] - 9s 2ms/step\n",
      "CPU times: user 12.2 s, sys: 768 ms, total: 12.9 s\n",
      "Wall time: 11.7 s\n"
     ]
    }
   ],
   "source": [
    "%%time \n",
    "from tensorflow.python.framework.ops import LazyLoader\n",
    "Y_pred = ANN_model.predict(X_test)"
   ]
  }
 ],
 "metadata": {
  "accelerator": "GPU",
  "colab": {
   "provenance": [],
   "toc_visible": true
  },
  "gpuClass": "standard",
  "kernelspec": {
   "display_name": "Python 3",
   "language": "python",
   "name": "python3"
  },
  "language_info": {
   "codemirror_mode": {
    "name": "ipython",
    "version": 3
   },
   "file_extension": ".py",
   "mimetype": "text/x-python",
   "name": "python",
   "nbconvert_exporter": "python",
   "pygments_lexer": "ipython3",
   "version": "3.8.8"
  }
 },
 "nbformat": 4,
 "nbformat_minor": 5
}
