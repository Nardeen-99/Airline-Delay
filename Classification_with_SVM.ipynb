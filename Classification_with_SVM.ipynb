{
 "cells": [
  {
   "cell_type": "markdown",
   "id": "4fd81147",
   "metadata": {},
   "source": [
    "### Note: Due to long runtimes, we applied SVC on a subset of the data which is 100000 datapoints."
   ]
  },
  {
   "cell_type": "code",
   "execution_count": 1,
   "id": "9f5315be",
   "metadata": {},
   "outputs": [],
   "source": [
    "import pandas as pd\n",
    "from sklearn import svm\n",
    "from sklearn.model_selection import train_test_split\n",
    "from sklearn import metrics\n",
    "import numpy as np\n",
    "import matplotlib.pyplot as plt\n",
    "%matplotlib inline"
   ]
  },
  {
   "cell_type": "code",
   "execution_count": 2,
   "id": "3ba96e8a",
   "metadata": {},
   "outputs": [],
   "source": [
    "df = pd.read_csv('preprocessed_data.csv')"
   ]
  },
  {
   "cell_type": "code",
   "execution_count": 3,
   "id": "6cef2f02",
   "metadata": {},
   "outputs": [
    {
     "data": {
      "text/html": [
       "<div>\n",
       "<style scoped>\n",
       "    .dataframe tbody tr th:only-of-type {\n",
       "        vertical-align: middle;\n",
       "    }\n",
       "\n",
       "    .dataframe tbody tr th {\n",
       "        vertical-align: top;\n",
       "    }\n",
       "\n",
       "    .dataframe thead th {\n",
       "        text-align: right;\n",
       "    }\n",
       "</style>\n",
       "<table border=\"1\" class=\"dataframe\">\n",
       "  <thead>\n",
       "    <tr style=\"text-align: right;\">\n",
       "      <th></th>\n",
       "      <th>Unnamed: 0</th>\n",
       "      <th>Time_of_departure</th>\n",
       "      <th>Length_of_Fligh</th>\n",
       "      <th>Airline_ID</th>\n",
       "      <th>AirportFrom</th>\n",
       "      <th>AirportTo</th>\n",
       "      <th>DayOfWeek</th>\n",
       "      <th>Class</th>\n",
       "    </tr>\n",
       "  </thead>\n",
       "  <tbody>\n",
       "    <tr>\n",
       "      <th>0</th>\n",
       "      <td>0</td>\n",
       "      <td>0.899930</td>\n",
       "      <td>0.215267</td>\n",
       "      <td>0.294118</td>\n",
       "      <td>0.054795</td>\n",
       "      <td>0.441781</td>\n",
       "      <td>0.000000</td>\n",
       "      <td>0</td>\n",
       "    </tr>\n",
       "    <tr>\n",
       "      <th>1</th>\n",
       "      <td>1</td>\n",
       "      <td>0.244927</td>\n",
       "      <td>0.222901</td>\n",
       "      <td>0.705882</td>\n",
       "      <td>0.222603</td>\n",
       "      <td>0.712329</td>\n",
       "      <td>0.500000</td>\n",
       "      <td>0</td>\n",
       "    </tr>\n",
       "    <tr>\n",
       "      <th>2</th>\n",
       "      <td>2</td>\n",
       "      <td>0.811756</td>\n",
       "      <td>0.218321</td>\n",
       "      <td>0.176471</td>\n",
       "      <td>0.119863</td>\n",
       "      <td>0.205479</td>\n",
       "      <td>0.333333</td>\n",
       "      <td>0</td>\n",
       "    </tr>\n",
       "    <tr>\n",
       "      <th>3</th>\n",
       "      <td>3</td>\n",
       "      <td>0.979706</td>\n",
       "      <td>0.525191</td>\n",
       "      <td>0.823529</td>\n",
       "      <td>0.695205</td>\n",
       "      <td>0.743151</td>\n",
       "      <td>0.833333</td>\n",
       "      <td>0</td>\n",
       "    </tr>\n",
       "    <tr>\n",
       "      <th>4</th>\n",
       "      <td>4</td>\n",
       "      <td>0.477257</td>\n",
       "      <td>0.149618</td>\n",
       "      <td>0.470588</td>\n",
       "      <td>0.109589</td>\n",
       "      <td>0.054795</td>\n",
       "      <td>0.500000</td>\n",
       "      <td>0</td>\n",
       "    </tr>\n",
       "  </tbody>\n",
       "</table>\n",
       "</div>"
      ],
      "text/plain": [
       "   Unnamed: 0  Time_of_departure  Length_of_Fligh  Airline_ID  AirportFrom  \\\n",
       "0           0           0.899930         0.215267    0.294118     0.054795   \n",
       "1           1           0.244927         0.222901    0.705882     0.222603   \n",
       "2           2           0.811756         0.218321    0.176471     0.119863   \n",
       "3           3           0.979706         0.525191    0.823529     0.695205   \n",
       "4           4           0.477257         0.149618    0.470588     0.109589   \n",
       "\n",
       "   AirportTo  DayOfWeek  Class  \n",
       "0   0.441781   0.000000      0  \n",
       "1   0.712329   0.500000      0  \n",
       "2   0.205479   0.333333      0  \n",
       "3   0.743151   0.833333      0  \n",
       "4   0.054795   0.500000      0  "
      ]
     },
     "execution_count": 3,
     "metadata": {},
     "output_type": "execute_result"
    }
   ],
   "source": [
    "df.head()"
   ]
  },
  {
   "cell_type": "code",
   "execution_count": 4,
   "id": "bd2ecfef",
   "metadata": {},
   "outputs": [],
   "source": [
    "df.drop(['Unnamed: 0'], axis=1, inplace=True)"
   ]
  },
  {
   "cell_type": "code",
   "execution_count": 5,
   "id": "e1359562",
   "metadata": {},
   "outputs": [
    {
     "data": {
      "text/html": [
       "<div>\n",
       "<style scoped>\n",
       "    .dataframe tbody tr th:only-of-type {\n",
       "        vertical-align: middle;\n",
       "    }\n",
       "\n",
       "    .dataframe tbody tr th {\n",
       "        vertical-align: top;\n",
       "    }\n",
       "\n",
       "    .dataframe thead th {\n",
       "        text-align: right;\n",
       "    }\n",
       "</style>\n",
       "<table border=\"1\" class=\"dataframe\">\n",
       "  <thead>\n",
       "    <tr style=\"text-align: right;\">\n",
       "      <th></th>\n",
       "      <th>Time_of_departure</th>\n",
       "      <th>Length_of_Fligh</th>\n",
       "      <th>Airline_ID</th>\n",
       "      <th>AirportFrom</th>\n",
       "      <th>AirportTo</th>\n",
       "      <th>DayOfWeek</th>\n",
       "      <th>Class</th>\n",
       "    </tr>\n",
       "  </thead>\n",
       "  <tbody>\n",
       "    <tr>\n",
       "      <th>0</th>\n",
       "      <td>0.899930</td>\n",
       "      <td>0.215267</td>\n",
       "      <td>0.294118</td>\n",
       "      <td>0.054795</td>\n",
       "      <td>0.441781</td>\n",
       "      <td>0.000000</td>\n",
       "      <td>0</td>\n",
       "    </tr>\n",
       "    <tr>\n",
       "      <th>1</th>\n",
       "      <td>0.244927</td>\n",
       "      <td>0.222901</td>\n",
       "      <td>0.705882</td>\n",
       "      <td>0.222603</td>\n",
       "      <td>0.712329</td>\n",
       "      <td>0.500000</td>\n",
       "      <td>0</td>\n",
       "    </tr>\n",
       "    <tr>\n",
       "      <th>2</th>\n",
       "      <td>0.811756</td>\n",
       "      <td>0.218321</td>\n",
       "      <td>0.176471</td>\n",
       "      <td>0.119863</td>\n",
       "      <td>0.205479</td>\n",
       "      <td>0.333333</td>\n",
       "      <td>0</td>\n",
       "    </tr>\n",
       "    <tr>\n",
       "      <th>3</th>\n",
       "      <td>0.979706</td>\n",
       "      <td>0.525191</td>\n",
       "      <td>0.823529</td>\n",
       "      <td>0.695205</td>\n",
       "      <td>0.743151</td>\n",
       "      <td>0.833333</td>\n",
       "      <td>0</td>\n",
       "    </tr>\n",
       "    <tr>\n",
       "      <th>4</th>\n",
       "      <td>0.477257</td>\n",
       "      <td>0.149618</td>\n",
       "      <td>0.470588</td>\n",
       "      <td>0.109589</td>\n",
       "      <td>0.054795</td>\n",
       "      <td>0.500000</td>\n",
       "      <td>0</td>\n",
       "    </tr>\n",
       "  </tbody>\n",
       "</table>\n",
       "</div>"
      ],
      "text/plain": [
       "   Time_of_departure  Length_of_Fligh  Airline_ID  AirportFrom  AirportTo  \\\n",
       "0           0.899930         0.215267    0.294118     0.054795   0.441781   \n",
       "1           0.244927         0.222901    0.705882     0.222603   0.712329   \n",
       "2           0.811756         0.218321    0.176471     0.119863   0.205479   \n",
       "3           0.979706         0.525191    0.823529     0.695205   0.743151   \n",
       "4           0.477257         0.149618    0.470588     0.109589   0.054795   \n",
       "\n",
       "   DayOfWeek  Class  \n",
       "0   0.000000      0  \n",
       "1   0.500000      0  \n",
       "2   0.333333      0  \n",
       "3   0.833333      0  \n",
       "4   0.500000      0  "
      ]
     },
     "execution_count": 5,
     "metadata": {},
     "output_type": "execute_result"
    }
   ],
   "source": [
    "df.head()"
   ]
  },
  {
   "cell_type": "code",
   "execution_count": 6,
   "id": "e1f3a86a",
   "metadata": {},
   "outputs": [],
   "source": [
    "df = df.sample(frac = 1)    "
   ]
  },
  {
   "cell_type": "code",
   "execution_count": 7,
   "id": "d8478dae",
   "metadata": {},
   "outputs": [
    {
     "data": {
      "text/html": [
       "<div>\n",
       "<style scoped>\n",
       "    .dataframe tbody tr th:only-of-type {\n",
       "        vertical-align: middle;\n",
       "    }\n",
       "\n",
       "    .dataframe tbody tr th {\n",
       "        vertical-align: top;\n",
       "    }\n",
       "\n",
       "    .dataframe thead th {\n",
       "        text-align: right;\n",
       "    }\n",
       "</style>\n",
       "<table border=\"1\" class=\"dataframe\">\n",
       "  <thead>\n",
       "    <tr style=\"text-align: right;\">\n",
       "      <th></th>\n",
       "      <th>Time_of_departure</th>\n",
       "      <th>Length_of_Fligh</th>\n",
       "      <th>Airline_ID</th>\n",
       "      <th>AirportFrom</th>\n",
       "      <th>AirportTo</th>\n",
       "      <th>DayOfWeek</th>\n",
       "      <th>Class</th>\n",
       "    </tr>\n",
       "  </thead>\n",
       "  <tbody>\n",
       "    <tr>\n",
       "      <th>127995</th>\n",
       "      <td>0.874738</td>\n",
       "      <td>0.203053</td>\n",
       "      <td>0.764706</td>\n",
       "      <td>0.273973</td>\n",
       "      <td>0.712329</td>\n",
       "      <td>1.000000</td>\n",
       "      <td>0</td>\n",
       "    </tr>\n",
       "    <tr>\n",
       "      <th>402570</th>\n",
       "      <td>0.804059</td>\n",
       "      <td>0.154198</td>\n",
       "      <td>0.470588</td>\n",
       "      <td>0.054795</td>\n",
       "      <td>0.154110</td>\n",
       "      <td>0.333333</td>\n",
       "      <td>0</td>\n",
       "    </tr>\n",
       "    <tr>\n",
       "      <th>490729</th>\n",
       "      <td>0.951714</td>\n",
       "      <td>0.076336</td>\n",
       "      <td>0.058824</td>\n",
       "      <td>0.273973</td>\n",
       "      <td>0.698630</td>\n",
       "      <td>0.833333</td>\n",
       "      <td>0</td>\n",
       "    </tr>\n",
       "    <tr>\n",
       "      <th>414420</th>\n",
       "      <td>0.755073</td>\n",
       "      <td>0.169466</td>\n",
       "      <td>0.294118</td>\n",
       "      <td>0.832192</td>\n",
       "      <td>0.893836</td>\n",
       "      <td>0.666667</td>\n",
       "      <td>1</td>\n",
       "    </tr>\n",
       "    <tr>\n",
       "      <th>140870</th>\n",
       "      <td>0.766270</td>\n",
       "      <td>0.106870</td>\n",
       "      <td>0.941176</td>\n",
       "      <td>0.462329</td>\n",
       "      <td>0.130137</td>\n",
       "      <td>0.333333</td>\n",
       "      <td>1</td>\n",
       "    </tr>\n",
       "  </tbody>\n",
       "</table>\n",
       "</div>"
      ],
      "text/plain": [
       "        Time_of_departure  Length_of_Fligh  Airline_ID  AirportFrom  \\\n",
       "127995           0.874738         0.203053    0.764706     0.273973   \n",
       "402570           0.804059         0.154198    0.470588     0.054795   \n",
       "490729           0.951714         0.076336    0.058824     0.273973   \n",
       "414420           0.755073         0.169466    0.294118     0.832192   \n",
       "140870           0.766270         0.106870    0.941176     0.462329   \n",
       "\n",
       "        AirportTo  DayOfWeek  Class  \n",
       "127995   0.712329   1.000000      0  \n",
       "402570   0.154110   0.333333      0  \n",
       "490729   0.698630   0.833333      0  \n",
       "414420   0.893836   0.666667      1  \n",
       "140870   0.130137   0.333333      1  "
      ]
     },
     "execution_count": 7,
     "metadata": {},
     "output_type": "execute_result"
    }
   ],
   "source": [
    "df.head()"
   ]
  },
  {
   "cell_type": "code",
   "execution_count": 8,
   "id": "96c5cfef",
   "metadata": {},
   "outputs": [],
   "source": [
    "X = df.drop(['Class'], axis=1)[:100000]\n",
    "Y = df['Class'][:100000]\n",
    "X_train, X_test, Y_train, Y_test = train_test_split(X, Y, test_size=0.3, random_state=101)"
   ]
  },
  {
   "cell_type": "markdown",
   "id": "40392535",
   "metadata": {},
   "source": [
    "### Choosing Kernel"
   ]
  },
  {
   "cell_type": "code",
   "execution_count": 9,
   "id": "e47582e2",
   "metadata": {},
   "outputs": [],
   "source": [
    "kernels = ['linear', 'rbf', 'poly']"
   ]
  },
  {
   "cell_type": "code",
   "execution_count": 10,
   "id": "4c378c1f",
   "metadata": {},
   "outputs": [
    {
     "name": "stdout",
     "output_type": "stream",
     "text": [
      "Accuracy for the linear kernel is: 0.5764666666666667\n",
      "Precision for the linear kernel is: 0.5299273440202975\n",
      "Accuracy for the rbf kernel is: 0.6063666666666667\n",
      "Precision for the rbf kernel is: 0.5843057870921649\n",
      "Accuracy for the poly kernel is: 0.5920666666666666\n",
      "Precision for the poly kernel is: 0.5683802133850631\n"
     ]
    }
   ],
   "source": [
    "for kernel in kernels:\n",
    "    svc_1 = svm.SVC(kernel=kernel).fit(X_train, Y_train)\n",
    "    Y_pred = svc_1.predict(X_test)\n",
    "    print('Accuracy for the {0} kernel is: {1}'.format(kernel,metrics.accuracy_score(Y_test, Y_pred)))\n",
    "    print('Precision for the {0} kernel is: {1}'.format(kernel,metrics.precision_score(Y_test, Y_pred)))"
   ]
  },
  {
   "cell_type": "markdown",
   "id": "ca9a62c1",
   "metadata": {},
   "source": [
    "### Choosing Gamma for the rbf Kernel"
   ]
  },
  {
   "cell_type": "code",
   "execution_count": 11,
   "id": "83e00129",
   "metadata": {},
   "outputs": [],
   "source": [
    "gammas = ['scale', 'auto', 0.1, 1, 10, 100]"
   ]
  },
  {
   "cell_type": "code",
   "execution_count": 12,
   "id": "601ba289",
   "metadata": {},
   "outputs": [
    {
     "name": "stdout",
     "output_type": "stream",
     "text": [
      "Accuracy for the scale gamma is: 0.6063666666666667\n",
      "Precision for the scale gamma is: 0.5843057870921649\n",
      "Accuracy for the auto gamma is: 0.5848666666666666\n",
      "Precision for the auto gamma is: 0.5644541046647717\n",
      "Accuracy for the 0.1 gamma is: 0.5830666666666666\n",
      "Precision for the 0.1 gamma is: 0.5615028306742151\n",
      "Accuracy for the 1 gamma is: 0.5995666666666667\n",
      "Precision for the 1 gamma is: 0.5820915740991601\n",
      "Accuracy for the 10 gamma is: 0.6221\n",
      "Precision for the 10 gamma is: 0.6022973558734287\n",
      "Accuracy for the 100 gamma is: 0.6179666666666667\n",
      "Precision for the 100 gamma is: 0.581081081081081\n"
     ]
    }
   ],
   "source": [
    "for gamma in gammas:\n",
    "    svc_1 = svm.SVC(kernel='rbf', gamma=gamma).fit(X_train, Y_train)\n",
    "    Y_pred = svc_1.predict(X_test)\n",
    "    print('Accuracy for the {0} gamma is: {1}'.format(gamma,metrics.accuracy_score(Y_test, Y_pred)))\n",
    "    print('Precision for the {0} gamma is: {1}'.format(gamma,metrics.precision_score(Y_test, Y_pred)))"
   ]
  },
  {
   "cell_type": "markdown",
   "id": "31426395",
   "metadata": {},
   "source": [
    "### Choosing C for the rbf Kernel"
   ]
  },
  {
   "cell_type": "code",
   "execution_count": 13,
   "id": "dfd8186e",
   "metadata": {},
   "outputs": [],
   "source": [
    "cs = [0.1, 1, 10, 100, 1000]"
   ]
  },
  {
   "cell_type": "code",
   "execution_count": 15,
   "id": "2352f26b",
   "metadata": {},
   "outputs": [
    {
     "name": "stdout",
     "output_type": "stream",
     "text": [
      "Accuracy for the 0.1 c is: 0.6063666666666667\n",
      "Precision for the 0.1 c is: 0.5843057870921649\n",
      "Accuracy for the 1 c is: 0.6063666666666667\n",
      "Precision for the 1 c is: 0.5843057870921649\n",
      "Accuracy for the 10 c is: 0.6063666666666667\n",
      "Precision for the 10 c is: 0.5843057870921649\n",
      "Accuracy for the 100 c is: 0.6063666666666667\n",
      "Precision for the 100 c is: 0.5843057870921649\n",
      "Accuracy for the 1000 c is: 0.6063666666666667\n",
      "Precision for the 1000 c is: 0.5843057870921649\n"
     ]
    }
   ],
   "source": [
    "for c in cs:\n",
    "    svc_1 = svm.SVC(kernel='rbf').fit(X_train, Y_train)\n",
    "    Y_pred = svc_1.predict(X_test)\n",
    "    print('Accuracy for the {0} c is: {1}'.format(c,metrics.accuracy_score(Y_test, Y_pred)))\n",
    "    print('Precision for the {0} c is: {1}'.format(c,metrics.precision_score(Y_test, Y_pred)))"
   ]
  },
  {
   "cell_type": "markdown",
   "id": "8d59f12b",
   "metadata": {},
   "source": [
    "## The chosen parameters for SVC"
   ]
  },
  {
   "cell_type": "code",
   "execution_count": 16,
   "id": "012eca9a",
   "metadata": {},
   "outputs": [],
   "source": [
    "kernel = 'rbf'\n",
    "gamma = 10\n",
    "c = 1.0 "
   ]
  },
  {
   "cell_type": "code",
   "execution_count": 18,
   "id": "2307f699",
   "metadata": {},
   "outputs": [
    {
     "name": "stdout",
     "output_type": "stream",
     "text": [
      "Accuracy = 0.6221\n",
      "Precision = 0.6022973558734287\n"
     ]
    }
   ],
   "source": [
    "svc = svm.SVC(kernel='rbf', gamma=10, C=1.0).fit(X_train, Y_train)\n",
    "Y_pred = svc.predict(X_test)\n",
    "print('Accuracy = {0}'.format(metrics.accuracy_score(Y_test, Y_pred)))\n",
    "print('Precision = {0}'.format(metrics.precision_score(Y_test, Y_pred)))"
   ]
  },
  {
   "cell_type": "code",
   "execution_count": null,
   "id": "8be01d8e",
   "metadata": {},
   "outputs": [],
   "source": []
  }
 ],
 "metadata": {
  "kernelspec": {
   "display_name": "Python 3",
   "language": "python",
   "name": "python3"
  },
  "language_info": {
   "codemirror_mode": {
    "name": "ipython",
    "version": 3
   },
   "file_extension": ".py",
   "mimetype": "text/x-python",
   "name": "python",
   "nbconvert_exporter": "python",
   "pygments_lexer": "ipython3",
   "version": "3.8.8"
  }
 },
 "nbformat": 4,
 "nbformat_minor": 5
}
